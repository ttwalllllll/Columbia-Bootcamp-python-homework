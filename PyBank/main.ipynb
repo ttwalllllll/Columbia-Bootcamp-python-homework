{
 "cells": [
  {
   "cell_type": "code",
   "execution_count": 8,
   "metadata": {},
   "outputs": [],
   "source": [
    "from pathlib import Path\n",
    "import csv\n",
    "import pandas as pd"
   ]
  },
  {
   "cell_type": "code",
   "execution_count": 12,
   "metadata": {},
   "outputs": [],
   "source": [
    "Bank_Path = Path(\"Budget_Data.csv\")"
   ]
  },
  {
   "cell_type": "code",
   "execution_count": 31,
   "metadata": {},
   "outputs": [],
   "source": [
    "Profit_Losses = []"
   ]
  },
  {
   "cell_type": "code",
   "execution_count": 33,
   "metadata": {},
   "outputs": [],
   "source": [
    "line_num = 0"
   ]
  },
  {
   "cell_type": "code",
   "execution_count": 35,
   "metadata": {},
   "outputs": [],
   "source": [
    "with open(Bank_Path, 'r') as csvfile:\n",
    "    csvreader = csv.reader(csvfile, delimiter=',')\n",
    "    header = next(csvreader)\n",
    "    line_num += 1\n",
    "    \n",
    "    for rows in csvreader:\n",
    "        Pnl = int(rows[1])\n",
    "        Profit_Losses.append(Pnl)"
   ]
  },
  {
   "cell_type": "code",
   "execution_count": 39,
   "metadata": {},
   "outputs": [],
   "source": [
    "largest_profit = 0\n",
    "largest_loss = 0\n",
    "total_pnl = 0\n",
    "count_pnl = 0\n"
   ]
  },
  {
   "cell_type": "code",
   "execution_count": 40,
   "metadata": {},
   "outputs": [],
   "source": [
    "for x in Profit_Losses:\n",
    "\n",
    "    total_pnl += x\n",
    "    count_pnl += 1\n",
    "\n",
    "\n",
    "    if largest_loss == 0:\n",
    "        largest_loss = x\n",
    "    elif x > largest_profit:\n",
    "        largest_profit = x\n",
    "    elif x < largest_loss:\n",
    "        largest_loss = x\n",
    "    "
   ]
  },
  {
   "cell_type": "code",
   "execution_count": 41,
   "metadata": {},
   "outputs": [],
   "source": [
    "avg_pnl = total_pnl / count_pnl"
   ]
  },
  {
   "cell_type": "code",
   "execution_count": 61,
   "metadata": {},
   "outputs": [],
   "source": [
    "output_path = Path('Homework_2.txt')"
   ]
  },
  {
   "cell_type": "code",
   "execution_count": 73,
   "metadata": {},
   "outputs": [],
   "source": [
    "with open(output_path, 'w') as file:\n",
    "    file.write(\"Financial Analysis\\n\")\n",
    "    file.write(\"------------------\\n\")\n",
    "    file.write(f\"Total Months: {count_pnl}\\n\")\n",
    "    file.write(f\"Total Profits: {total_pnl}\\n\")\n",
    "    file.write(f\"Average Change: ${avg_pnl}\\n\")\n",
    "    file.write(f\"Greatest Increase in Profits: ${largest_profit}\\n\")\n",
    "    file.write(f\"Greatest Decrease in Profits: ${largest_loss}\\n\")\n"
   ]
  }
 ],
 "metadata": {
  "kernelspec": {
   "display_name": "Python 3",
   "language": "python",
   "name": "python3"
  },
  "language_info": {
   "codemirror_mode": {
    "name": "ipython",
    "version": 3
   },
   "file_extension": ".py",
   "mimetype": "text/x-python",
   "name": "python",
   "nbconvert_exporter": "python",
   "pygments_lexer": "ipython3",
   "version": "3.8.5"
  }
 },
 "nbformat": 4,
 "nbformat_minor": 4
}
